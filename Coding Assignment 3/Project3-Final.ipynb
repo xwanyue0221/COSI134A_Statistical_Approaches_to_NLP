{
 "cells": [
  {
   "cell_type": "markdown",
   "metadata": {},
   "source": [
    "# Project 3: Training a BiLSTM POS tagger\n",
    "## Due: November 4, 2021 \n",
    "\n",
    "The goal of this project is to train a BILSTM model for sequence labeling. \n",
    "\n",
    "## Task definition:\n",
    "POS tagging is the task of assigning a POS tag to each word token in the sentence, and it is a typical sequence labeling problem. The provided code has a skeletal <span class=\"mark\">implementation of a CRF tagger</span>, <span class=\"mark\">complete with a Viterbi decoder</span> and <span class=\"mark\">a function for computing the negative loglikelihood</span> of a sentence with the forward algorithm.\n",
    "\n",
    "You are <span class=\"mark\">asked to write a training routine to train a sequence labeling mode</span>l with the provided training set from the Penn TreeBank. Make sure you <span class=\"mark\">include code in the training routine that reports the total loss after each training iteration (epoch)</span> over the entire training set so that you can observe the change in the total loss from iteration to iteration. If the training goes well, the loss should keep going down. If you see drastic upward and downward swings in the training loss, that's a sign that something is not working properly. Additionally you <span class=\"mark\">should also include code that reports the accuracy of the model on the development set every 5 or 10 iterations</span>, so that you can observe the trend in prediction accuracy. If the improvement plateaus or starts to go down, that's a sign you should stop training.\n",
    "\n",
    "Additionally, you are asked to <span class=\"mark\">write an alternative (and simpler) per-token local softmax decoder that finds the best tag for each word token individually</span>. You also need to <span class=\"mark\">write a corresponding negative loglikelihood loss function for such a greedy decoding process</span>. Recall that in this case the negative loglikelihood loss of a sentence is the sum of the loss for individual word tokens in the sentence. This will allow you to compare the performance of this simpler alternative with the CRF model. \n",
    "\n",
    "\n",
    "## Data sets:\n",
    "We will be using the standard train / development / test split in the Penn TreeBank for our experiments: Sections\n",
    "02-21 are used for training, Section 22 is used for devevelopment, and Section 23 is used as the final test set.\n",
    "You can use the development set to select the best model architecture and tune the hyperparameters. When you are done\n",
    "training and tuning, you need to run your code on the test set and produce an automatically tagged version of it.\n",
    "The data format is very straightforward: each line of the data file contains one sentence. For the training and dev data, you are provided with the sentences with their gold POS tags. For the test set, you are only given the word tokens. The TAs will run your code on the test set to get the accuracy of your model\n",
    "\n",
    "\n",
    "## Experiments\n",
    "Like linear models, having the right feature representation is crucial to the performance of a neural model. In neural models, you can no longer tweak the feature templates directly. However<span class=\"mark\">, you can engineer a neural architecture to capture information that is analoguous to features in linear models</span>. For instance, the BiLSTM network captures the left and right context, similar to previous and next word features in linear models. <span class=\"mark\">To capture affix information that might be helpful for POS tagging,</span> you <span class=\"mark\">can experiment with character-level CNNs with various pooling techniques (e.g., max pooling).</span> To <span class=\"mark\">capture previous tag features, you can use a transition matrix between tags</span>.\n",
    "You are asked to run a number of experiments and report results on the provided development set in this assignment.\n",
    "\n",
    "1. Experiment with using pre-trained word embeddings such as GLOVE (https://nlp.stanford.edu/projects/glove/) or fastText (https://fasttext.cc/docs/en/english-vectors.html). These embeddings come with different dimensions, and start with a smaller dimension to make sure that your computing environment has sufficient memory for it and your model can train sufficiently fast. You are adviced to \"freeze\" the word embeddings and do not update them during your training process. Compare the results from using the best pre-training embeddings and using random initialized embeddings to see if there is any difference in performance.\n",
    "\n",
    "2. Experiment with using character CNNs. Intuitively affixes or other parts of a word can be useful information. Typically this information is captured with character-level CNNs in neural models. Add a character-level CNN, and concatenate the output of the CNN with word embeddings, and see if this improves the performance of your BiLSTM model. Compare the results of using vs not using character CNNs.\n",
    "\n",
    "3. Do the first two experiments with a local softmax decoder, i.e., making predictions individually for each word in the sentence, as this will train faster. You should be able to train your model with (the sum of) a per-token negative loglikelihood loss on the entire training set within a reasonable amoount of time. In the final experiment, you are asked to compare the results for the greedy per-token local loss with the global negative loglikelihood loss on the entire tag sequence with a BiLSTM-CRF model. Training a BiLSTM-CRF model is expensive, so use the first 10,000 sentences to train the CRF model instead of the entire training set. For apple-to-apple comparisions, also train your local greedy softmax model with the same training set so that you can observe which model yields superior performance.\n",
    "\n",
    "## Some implementation tips:\n",
    "\n",
    "1. To take advantage of the GPU accelerator, you need to move all Pytorch tensors to GPU using to(device) or cuda().\n",
    "2. A common first problem is that you'll use up all memory quickly, leading to an \"out of memory\" error. It is important to realize that Pytorch keep a computation history to compute the gradient. For instance, if you add up the losses for individual sentences, you may keep accumulating history and use up the memory. So instead of doing something like 'total_loss += sent_loss\", do \"total_loss += float(sent_loss)\" to strip off history.  Also delete variables you no longer need to free up memory.\n",
    "4. Dealing with unknown words: add UNK to the training vocabulary so that if there is an out-of-vocabulary (OOV) word in the development set, you can map it to UNK so that it still gets labeled.\n",
    "5. If the loss (negative loglikelihood) swings up and down, you may need to adjust the learning rate (or choose a different optimizer). We suggest that you use the Adam optimizer as it is adaptive and you don't need to manually set the learning rate. \n",
    "6. In a typical deep learning model, there are many hyper-parameters that need to be manually set (learning rate /choice of optimizer, embedding and hidden dimensions, kernel sizes (CNN), number of training iterations, etc., ). This leads to many different combinations of hyper-parameters and it is hard to do an exhaustive search to find the best combination. One common technique for searching the best set of parameters is *grid search*, which allows you to specify plausible values for each hyper-paraameter and search for hyper-parameter combinations systematically.\n",
    "\n",
    "## Report\n",
    "Write a report that \n",
    "a) briefly describe the structure of your code, \n",
    "b) present your experimental settings and results,\n",
    "c) any insights that you have learned from your experiments. Your report should be no longer than 5\n",
    "pages.\n",
    "\n",
    "## Project evaluation criteria\n",
    "\n",
    "Your project will be evaluated by the correctness and thoroughness of your implementation (performing all required experiments), the performance of your best model, which usually reflects the correctness and thoroughness of your model as well as the proper selection of hyper-parameters. Your project will also be evaluated against creativity (e.g., surprising model components that lead to consistent improvement in performance), and clarity of your report. \n",
    "\n",
    "\n"
   ]
  },
  {
   "cell_type": "markdown",
   "metadata": {},
   "source": [
    "## 1. Setup"
   ]
  },
  {
   "cell_type": "code",
   "execution_count": 1,
   "metadata": {},
   "outputs": [],
   "source": [
    "import os\n",
    "import re\n",
    "import random\n",
    "import numpy as np\n",
    "import matplotlib.pyplot as plt\n",
    "\n",
    "import torch\n",
    "import torch.nn as nn\n",
    "import torch.optim as optim\n",
    "from torchtext.vocab import GloVe\n",
    "from torch.nn import functional as F\n",
    "from tqdm import tqdm_notebook as tqdm\n",
    "from torch.utils.data import DataLoader\n",
    "from torch.nn.utils.rnn import pad_sequence"
   ]
  },
  {
   "cell_type": "code",
   "execution_count": 2,
   "metadata": {},
   "outputs": [],
   "source": [
    "# Hyperparameters\n",
    "NUM_EPOCHS = 5\n",
    "LEARNING_RATE = 0.002\n",
    "EMBED_DIM = 50\n",
    "HIDDEN_DIM = 50\n",
    "NUM_LAYERS = 1\n",
    "BIDIRECTIONAL = True\n",
    "DROPOUT = 0.2\n",
    "SEED = 1334\n",
    "DEVICE_ID = 0"
   ]
  },
  {
   "cell_type": "code",
   "execution_count": 3,
   "metadata": {},
   "outputs": [
    {
     "data": {
      "text/plain": [
       "device(type='cpu')"
      ]
     },
     "execution_count": 3,
     "metadata": {},
     "output_type": "execute_result"
    }
   ],
   "source": [
    "os.environ[\"CUDA_VISIBLE_DEVICES\"] = f\"{DEVICE_ID}\"\n",
    "device = torch.device('cuda' if torch.cuda.is_available() else 'cpu')\n",
    "random.seed(SEED)\n",
    "torch.manual_seed(SEED)\n",
    "torch.cuda.manual_seed_all(SEED)\n",
    "torch.backends.cudnn.deterministic = True\n",
    "device "
   ]
  },
  {
   "cell_type": "markdown",
   "metadata": {},
   "source": [
    "## 2. Data Preparation"
   ]
  },
  {
   "cell_type": "code",
   "execution_count": 4,
   "metadata": {},
   "outputs": [],
   "source": [
    "def read_in_gold_data(filename):\n",
    "    \"\"\"Read in the labeled gold data into a list\"\"\"\n",
    "    with open(filename) as f:\n",
    "        for line in f:\n",
    "            tuples = [tup.split('_') for tup in line.split()]\n",
    "            tokens = [tup[0] for tup in tuples]\n",
    "            tags = [tup[1] for tup in tuples]\n",
    "            yield (tokens, tags)\n",
    "        \n",
    "def read_in_plain_data(filename):\n",
    "    \"\"\"Read in plain text data for sequence labeling, assuming a one-sentence-per-line format\"\"\"\n",
    "    with open(filename) as f:\n",
    "        lines = f.readlines()\n",
    "        lines = [line.split() for line in lines]\n",
    "    return lines"
   ]
  },
  {
   "cell_type": "markdown",
   "metadata": {},
   "source": [
    "#### Load in datasets"
   ]
  },
  {
   "cell_type": "code",
   "execution_count": 5,
   "metadata": {
    "scrolled": true
   },
   "outputs": [],
   "source": [
    "training_data = list(read_in_gold_data(\"./train/ptb_02-21.tagged\"))\n",
    "dev_data = list(read_in_gold_data(\"./dev/ptb_22.tagged\"))\n",
    "test_data = read_in_plain_data(\"./test/ptb_23.snt\")"
   ]
  },
  {
   "cell_type": "markdown",
   "metadata": {},
   "source": [
    "## 3. Vocab"
   ]
  },
  {
   "cell_type": "markdown",
   "metadata": {},
   "source": [
    "#### Self-defined Vocab"
   ]
  },
  {
   "cell_type": "code",
   "execution_count": 6,
   "metadata": {},
   "outputs": [
    {
     "name": "stdout",
     "output_type": "stream",
     "text": [
      "tgt: [('<pad>', 0), ('<bos>', 1), ('<eos>', 2), ('#', 3), ('$', 4)]  tgt length: 48  tgt pad_idx: 0\n",
      "char: [('<pad>', 0), ('<unk>', 1), ('!', 2), ('#', 3), ('$', 4)]  char length: 82  char pad_idx: 0\n",
      "src: [('<pad>', 0), ('<unk>', 1), ('!', 2), ('#', 3), ('$', 4)]  src length: 44391  src pad_idx: 0\n"
     ]
    }
   ],
   "source": [
    "'''\n",
    "    Construct a self-defined vocabulary\n",
    "'''\n",
    "src_itos, char_itos, tgt_itos = set(), set(), set()\n",
    "\n",
    "for each in training_data:\n",
    "    sent_src = each[0]\n",
    "    sent_char = [char for word in sent_src for char in word]\n",
    "    sent_tgt = each[1]\n",
    "    \n",
    "    char_itos.update(sent_char)\n",
    "    src_itos.update(sent_src)\n",
    "    tgt_itos.update(sent_tgt)\n",
    "    \n",
    "'''\n",
    "    Insert extra tokens into vocabularies\n",
    "'''\n",
    "src_itos, char_itos, tgt_itos = sorted(src_itos), sorted(char_itos), sorted(tgt_itos)\n",
    "UNK = '<unk>'\n",
    "PAD = '<pad>'\n",
    "BOS = '<bos>' # CRF\n",
    "EOS = '<eos>' # CRF\n",
    "\n",
    "'''\n",
    "    Reset the index\n",
    "'''\n",
    "src_itos = [UNK] + src_itos\n",
    "src_itos = [PAD] + src_itos\n",
    "src_stoi = {word: i for i, word in enumerate(src_itos)}\n",
    "src_vocab = (src_itos, src_stoi)\n",
    "\n",
    "char_itos = [UNK] + char_itos\n",
    "char_itos = [PAD] + char_itos\n",
    "char_stoi = {word: i for i, word in enumerate(char_itos)}\n",
    "char_vocab = (char_itos, char_stoi)\n",
    "\n",
    "tgt_itos = [PAD, BOS, EOS] + tgt_itos\n",
    "tgt_stoi = {word: i for i, word in enumerate(tgt_itos)}\n",
    "tgt_vocab = (tgt_itos, tgt_stoi)\n",
    "\n",
    "'''\n",
    "    print out the top elements\n",
    "'''\n",
    "print(\"tgt:\", list(tgt_stoi.items())[:5], \" tgt length:\", len(tgt_itos), \" tgt pad_idx:\", tgt_stoi[PAD])\n",
    "print(\"char:\", list(char_stoi.items())[:5], \" char length:\", len(char_itos),\" char pad_idx:\", char_stoi[PAD])\n",
    "print(\"src:\", list(src_stoi.items())[:5], \" src length:\", len(src_stoi), \" src pad_idx:\", src_stoi[PAD])"
   ]
  },
  {
   "cell_type": "markdown",
   "metadata": {},
   "source": [
    "#### GloVe Vocab"
   ]
  },
  {
   "cell_type": "code",
   "execution_count": 7,
   "metadata": {
    "scrolled": true
   },
   "outputs": [
    {
     "name": "stdout",
     "output_type": "stream",
     "text": [
      "glove: ['rolonda', 'zsombor', 'sandberger', '<unk>', '<pad>']  glove length: 400002  glove pad_idx: 400001\n"
     ]
    }
   ],
   "source": [
    "def get_glove_vocabs(embedding_module):\n",
    "    glove_vocab = embedding_module.stoi\n",
    "    glove_vocab.update({'<unk>': embedding_module.vectors.shape[0]})\n",
    "    pretrained_embeddings = embedding_module.vectors\n",
    "    pretrained_embeddings = torch.cat((pretrained_embeddings, torch.rand(1,pretrained_embeddings.shape[1])))\n",
    "    \n",
    "    glove_vocab.update({'<pad>': embedding_module.vectors.shape[0]+1})\n",
    "    pretrained_embeddings = torch.cat((pretrained_embeddings, torch.zeros(1,pretrained_embeddings.shape[1])))\n",
    "\n",
    "    return glove_vocab, pretrained_embeddings\n",
    "\n",
    "embedding_glove300 = GloVe(name=\"6B\", dim=300)\n",
    "glove_vocab, pretrained_embeddings = get_glove_vocabs(embedding_glove300)\n",
    "glove_itos = list(glove_vocab.keys())\n",
    "\n",
    "'''\n",
    "    print out the last 5 elements\n",
    "'''\n",
    "print(\"glove:\", glove_itos[-5:], \" glove length:\", len(glove_itos), \" glove pad_idx:\", glove_vocab[PAD])"
   ]
  },
  {
   "cell_type": "markdown",
   "metadata": {},
   "source": [
    "## 4. Vectorized Data"
   ]
  },
  {
   "cell_type": "markdown",
   "metadata": {},
   "source": [
    "#### Define two vectorized function"
   ]
  },
  {
   "cell_type": "code",
   "execution_count": 8,
   "metadata": {},
   "outputs": [],
   "source": [
    "'''\n",
    "    For Random embedding\n",
    "'''\n",
    "def convert_seq(seq, vocab, is_target=False):\n",
    "    if type(seq) is str:\n",
    "        seq = seq.split()\n",
    "    out_seq = []\n",
    "    for tok in seq:\n",
    "        if tok in vocab:\n",
    "            out_seq.append(vocab[tok])\n",
    "        else:\n",
    "            if is_target:\n",
    "                raise RuntimeError(f\"Unknown target token: `{repr(tok)}` from vocab: {', '.join(vocab)}\")\n",
    "            else:\n",
    "                out_seq.append(vocab[UNK])\n",
    "    return out_seq\n",
    "\n",
    "'''\n",
    "    For GloVe embedding\n",
    "'''\n",
    "def GloVe_seq(seq, vocab, is_target = False):\n",
    "    if type(seq) is str:\n",
    "        seq = seq.split()\n",
    "    out_seq = []\n",
    "    if is_target:\n",
    "        for tok in seq:\n",
    "            if tok in vocab:\n",
    "                out_seq.append(vocab[tok])\n",
    "            else:\n",
    "                if is_target:\n",
    "                    raise RuntimeError(f\"Unknown target token: `{repr(tok)}` from vocab: {', '.join(vocab)}\")\n",
    "                else:\n",
    "                    out_seq.append(vocab[UNK])\n",
    "    else:\n",
    "        for tok in seq:\n",
    "            if tok.lower() in vocab:\n",
    "                out_seq.append(vocab[tok.lower()])\n",
    "            else:\n",
    "                if is_target:\n",
    "                    raise RuntimeError(f\"Unknown target token: `{repr(tok.lower())}` from vocab: {', '.join(vocab)}\")\n",
    "                else:\n",
    "                    out_seq.append(vocab[UNK])\n",
    "        \n",
    "    return out_seq"
   ]
  },
  {
   "cell_type": "markdown",
   "metadata": {},
   "source": [
    "#### Define two padding fucntions"
   ]
  },
  {
   "cell_type": "code",
   "execution_count": 9,
   "metadata": {},
   "outputs": [],
   "source": [
    "'''\n",
    "    For Random embedding\n",
    "'''\n",
    "def get_vector_dataset(dataset, src_stoi, tgt_stoi):\n",
    "    vectors_dataset = []\n",
    "    for each in dataset:\n",
    "        raw, tgt = each[0], each[1]\n",
    "        src = torch.tensor(convert_seq(raw, src_stoi), dtype=torch.long)\n",
    "        tgt = torch.tensor(convert_seq(tgt, tgt_stoi, is_target=True), dtype=torch.long)\n",
    "        vectors_dataset.append((src, raw, tgt))\n",
    "    return vectors_dataset\n",
    "\n",
    "'''\n",
    "    For GloVe embedding\n",
    "'''\n",
    "def get_GloVeVector_dataset(dataset, src_stoi, tgt_stoi):\n",
    "    vectors_dataset = []\n",
    "    for each in dataset:\n",
    "        raw, tgt = each[0], each[1]\n",
    "        src = torch.tensor(GloVe_seq(raw, src_stoi), dtype=torch.long)\n",
    "        tgt = torch.tensor(GloVe_seq(tgt, tgt_stoi, is_target=True), dtype=torch.long)\n",
    "        vectors_dataset.append((src, raw, tgt))\n",
    "    return vectors_dataset"
   ]
  },
  {
   "cell_type": "markdown",
   "metadata": {},
   "source": [
    "#### Vectorize and Self-defined Vocab"
   ]
  },
  {
   "cell_type": "code",
   "execution_count": 10,
   "metadata": {},
   "outputs": [
    {
     "name": "stdout",
     "output_type": "stream",
     "text": [
      "Trainning Dataset: \n",
      "(tensor([11617, 20532, 14718,  1439, 38250, 34396, 19786, 18296, 13981,     8,\n",
      "        21103,  7789,    28, 10613, 18298,    36, 19786, 16321,  7928, 18104,\n",
      "        41832, 17631, 30608, 19498,  7901,    31,     8, 12815,     6,  6071,\n",
      "           38,    31, 41832, 38444, 34396,  7656,    31, 35763, 22622, 12351,\n",
      "         7635,    31, 43742, 33350, 21178, 42127,  7847, 10900,    39]), ['In', 'an', 'Oct.', '19', 'review', 'of', '``', 'The', 'Misanthrope', \"''\", 'at', 'Chicago', \"'s\", 'Goodman', 'Theatre', '-LRB-', '``', 'Revitalized', 'Classics', 'Take', 'the', 'Stage', 'in', 'Windy', 'City', ',', \"''\", 'Leisure', '&', 'Arts', '-RRB-', ',', 'the', 'role', 'of', 'Celimene', ',', 'played', 'by', 'Kim', 'Cattrall', ',', 'was', 'mistakenly', 'attributed', 'to', 'Christina', 'Haag', '.'], tensor([16, 13, 23, 12, 22, 16, 47, 13, 22,  5, 16, 23, 27, 23, 23,  7, 47, 40,\n",
      "        25, 41, 13, 22, 16, 23, 23,  6,  5, 22, 11, 25,  8,  6, 13, 22, 16, 23,\n",
      "         6, 40, 16, 23, 23,  6, 38, 30, 40, 35, 23, 23,  9])) 39832\n",
      "\n",
      "\n",
      "Testing Dataset: \n",
      "(tensor([14526,    31, 31386, 43742, 33737,  6781, 14048,    39]), ['No', ',', 'it', 'was', \"n't\", 'Black', 'Monday', '.']) 2416\n"
     ]
    }
   ],
   "source": [
    "training_vectors = get_vector_dataset(training_data, src_stoi, tgt_stoi)\n",
    "dev_vectors = get_vector_dataset(dev_data, src_stoi, tgt_stoi)\n",
    "test_vectors = [(torch.tensor([convert_seq(each, src_stoi)][0], dtype=torch.long), each) for each in test_data]\n",
    "\n",
    "print(\"Trainning Dataset: \")\n",
    "print(training_vectors[0], len(training_vectors))\n",
    "print(\"\\n\")\n",
    "print(\"Testing Dataset: \")\n",
    "print(test_vectors[0], len(test_vectors))"
   ]
  },
  {
   "cell_type": "markdown",
   "metadata": {},
   "source": [
    "#### Vectorize and GloVe Vocab"
   ]
  },
  {
   "cell_type": "code",
   "execution_count": 11,
   "metadata": {},
   "outputs": [
    {
     "name": "stdout",
     "output_type": "stream",
     "text": [
      "Trainning Dataset with GloVe Emebedding: \n",
      "(tensor([     6,     29,   2187,    904,   1287,      3,     28,      0, 108509,\n",
      "            27,     22,   1147,      9,  11719,   2496, 400000,     28,  34691,\n",
      "          9344,    190,      0,    912,      6,  18082,    115,      1,     27,\n",
      "         10191,   1161,   1685, 400000,      1,      0,    542,      3, 400000,\n",
      "             1,    334,     21,   2017,  80049,      1,     15,  13744,   4412,\n",
      "             4,  12529,  47262,      2]), ['In', 'an', 'Oct.', '19', 'review', 'of', '``', 'The', 'Misanthrope', \"''\", 'at', 'Chicago', \"'s\", 'Goodman', 'Theatre', '-LRB-', '``', 'Revitalized', 'Classics', 'Take', 'the', 'Stage', 'in', 'Windy', 'City', ',', \"''\", 'Leisure', '&', 'Arts', '-RRB-', ',', 'the', 'role', 'of', 'Celimene', ',', 'played', 'by', 'Kim', 'Cattrall', ',', 'was', 'mistakenly', 'attributed', 'to', 'Christina', 'Haag', '.'], tensor([16, 13, 23, 12, 22, 16, 47, 13, 22,  5, 16, 23, 27, 23, 23,  7, 47, 40,\n",
      "        25, 41, 13, 22, 16, 23, 23,  6,  5, 22, 11, 25,  8,  6, 13, 22, 16, 23,\n",
      "         6, 40, 16, 23, 23,  6, 38, 30, 40, 35, 23, 23,  9])) 39832\n",
      "\n",
      "\n",
      "Testing Dataset with GloVe Emebedding:\n",
      "(tensor([ 84,   1,  20,  15,  70, 521, 183,   2]), ['No', ',', 'it', 'was', \"n't\", 'Black', 'Monday', '.']) 2416\n"
     ]
    }
   ],
   "source": [
    "train_GloVe_vectors = get_GloVeVector_dataset(training_data, glove_vocab, tgt_stoi)\n",
    "dev_GloVe_vectors = get_GloVeVector_dataset(dev_data, glove_vocab, tgt_stoi)\n",
    "test_GloVe_vectors = [(torch.tensor(GloVe_seq(each, glove_vocab), dtype=torch.long),each) for each in test_data]\n",
    "\n",
    "print(\"Trainning Dataset with GloVe Emebedding: \")\n",
    "print(train_GloVe_vectors[0], len(train_GloVe_vectors))\n",
    "print(\"\\n\")\n",
    "print(\"Testing Dataset with GloVe Emebedding:\")\n",
    "print(test_GloVe_vectors[0], len(test_GloVe_vectors))"
   ]
  },
  {
   "cell_type": "markdown",
   "metadata": {},
   "source": [
    "#### Exam the length distribution for each dataset"
   ]
  },
  {
   "cell_type": "code",
   "execution_count": 71,
   "metadata": {},
   "outputs": [
    {
     "data": {
      "text/plain": [
       "(1, 23.850873669411527, 141)"
      ]
     },
     "execution_count": 71,
     "metadata": {},
     "output_type": "execute_result"
    }
   ],
   "source": [
    "lens = np.array([len(x[0]) for x in training_vectors])\n",
    "np.min(lens), np.mean(lens), np.max(lens)"
   ]
  },
  {
   "cell_type": "code",
   "execution_count": 72,
   "metadata": {},
   "outputs": [
    {
     "data": {
      "text/plain": [
       "(1, 23.598235294117647, 118)"
      ]
     },
     "execution_count": 72,
     "metadata": {},
     "output_type": "execute_result"
    }
   ],
   "source": [
    "lens = np.array([len(x[0]) for x in dev_vectors])\n",
    "np.min(lens), np.mean(lens), np.max(lens)"
   ]
  },
  {
   "cell_type": "code",
   "execution_count": 73,
   "metadata": {},
   "outputs": [
    {
     "data": {
      "text/plain": [
       "(1, 23.461920529801326, 67)"
      ]
     },
     "execution_count": 73,
     "metadata": {},
     "output_type": "execute_result"
    }
   ],
   "source": [
    "lens = np.array([len(x[0]) for x in test_vectors])\n",
    "np.min(lens), np.mean(lens), np.max(lens)"
   ]
  },
  {
   "cell_type": "markdown",
   "metadata": {},
   "source": [
    "#### Exam the maximum length of character in each dataset"
   ]
  },
  {
   "cell_type": "code",
   "execution_count": 74,
   "metadata": {},
   "outputs": [
    {
     "data": {
      "text/plain": [
       "54"
      ]
     },
     "execution_count": 74,
     "metadata": {},
     "output_type": "execute_result"
    }
   ],
   "source": [
    "max_list = max([max([len(word) for word in sent[0]]) for sent in training_data])\n",
    "max_list"
   ]
  },
  {
   "cell_type": "code",
   "execution_count": 75,
   "metadata": {},
   "outputs": [
    {
     "data": {
      "text/plain": [
       "22"
      ]
     },
     "execution_count": 75,
     "metadata": {},
     "output_type": "execute_result"
    }
   ],
   "source": [
    "max_list = max([max([len(word) for word in sent[0]]) for sent in dev_data])\n",
    "max_list"
   ]
  },
  {
   "cell_type": "code",
   "execution_count": 76,
   "metadata": {},
   "outputs": [
    {
     "data": {
      "text/plain": [
       "29"
      ]
     },
     "execution_count": 76,
     "metadata": {},
     "output_type": "execute_result"
    }
   ],
   "source": [
    "max_list = max([max([len(word) for word in sent]) for sent in test_data])\n",
    "max_list"
   ]
  },
  {
   "cell_type": "markdown",
   "metadata": {},
   "source": [
    "#### Batchify and padding each dataset by using CustomBucketSampler and Dataloader"
   ]
  },
  {
   "cell_type": "code",
   "execution_count": 77,
   "metadata": {},
   "outputs": [],
   "source": [
    "buckets_train = list(range(5, 80, 5))\n",
    "buckets_GloVe = list(range(5, 80, 5))"
   ]
  },
  {
   "cell_type": "code",
   "execution_count": 78,
   "metadata": {},
   "outputs": [],
   "source": [
    "def batchify(iterable, n):\n",
    "    l = len(iterable)\n",
    "    for ndx in range(0, l, n):\n",
    "        yield iterable[ndx:min(ndx + n, l)]\n",
    "   \n",
    "'''\n",
    "    assign sentences with similar length to the same bucket\n",
    "'''\n",
    "class CustomBucketSampler:\n",
    "    def __init__(self, dataset, buckets, batch_size):\n",
    "        self.dataset = dataset\n",
    "        self.buckets = buckets\n",
    "        self.num_buckets = len(buckets) + 1\n",
    "        self.batch_size = batch_size\n",
    "    \n",
    "    def __len__(self):\n",
    "        return len(self.dataset)\n",
    "    \n",
    "    def __iter__(self):\n",
    "        idx_lens = []\n",
    "        for i, x in enumerate(self.dataset):\n",
    "            idx_lens.append((i, len(x[0]) ))\n",
    "\n",
    "        idx_lens = sorted(idx_lens, key=lambda x:x[1])\n",
    "        buckets = [[] for _ in range(self.num_buckets)]\n",
    "        \n",
    "        # 4. assign data to appropriate buckets\n",
    "        for i, l in idx_lens:\n",
    "            for j, bucket_limit in enumerate(self.buckets):\n",
    "                if l <= bucket_limit: # if length falls within a certain boundary\n",
    "                    buckets[j].append(i)\n",
    "                    break\n",
    "            # for data whose length is greater than the max boundary (9), assign to last bucket\n",
    "            if l > bucket_limit: # `bucket_limit` guaranteed to be 9\n",
    "                buckets[-1].append(i)\n",
    "               \n",
    "        # make sure the numbers match up\n",
    "        assert sum([len(x) for x in buckets]) == len(self.dataset)\n",
    "        \n",
    "        # 5. create batches in each bucket while shuffling\n",
    "        batches = []\n",
    "        for bucket in buckets: \n",
    "            random.shuffle(bucket)\n",
    "            for batch in batchify(bucket, self.batch_size):\n",
    "                if len(batch) == 60:\n",
    "                    batches.append(batch)\n",
    "    \n",
    "        # 6. shuffle batches and finally yield\n",
    "        random.shuffle(batches)\n",
    "        for batch in batches:\n",
    "            yield batch\n",
    "        \n",
    "'''\n",
    "    control how to batchify data + what to return in each iteration\n",
    "'''\n",
    "def collate_fn(batch):\n",
    "    data, raw, labels = zip(*batch)\n",
    "    lens = [len(x) for x in data]\n",
    "    data = pad_sequence(data, batch_first=True, padding_value=src_stoi[PAD]) # setting `batch_first` to True\n",
    "    labels = pad_sequence(labels, batch_first=True, padding_value=tgt_stoi[PAD])\n",
    "    return data, labels, raw, torch.tensor(lens)\n",
    "\n",
    "def collate_fnGlove(batch):\n",
    "    data, raw, labels = zip(*batch)\n",
    "    lens = [len(x) for x in data]\n",
    "    data = pad_sequence(data, batch_first=True, padding_value=glove_vocab[PAD])\n",
    "    labels = pad_sequence(labels, batch_first=True, padding_value=tgt_stoi[PAD])\n",
    "    return data, labels, raw, torch.tensor(lens)"
   ]
  },
  {
   "cell_type": "code",
   "execution_count": 79,
   "metadata": {},
   "outputs": [],
   "source": [
    "batchSize = 60\n",
    "train_sampler = CustomBucketSampler(training_data, buckets_train, batch_size=batchSize)\n",
    "dev_sampler = CustomBucketSampler(dev_data, buckets_GloVe, batch_size=batchSize)\n",
    "\n",
    "train_dl = DataLoader(training_vectors, collate_fn=collate_fn, batch_sampler=train_sampler)\n",
    "dev_dl = DataLoader(dev_vectors, collate_fn=collate_fn, batch_sampler=dev_sampler)\n",
    "\n",
    "train_glove_dl = DataLoader(train_GloVe_vectors, collate_fn=collate_fnGlove, batch_sampler=train_sampler)\n",
    "dev_glove_dl = DataLoader(dev_GloVe_vectors, collate_fn=collate_fnGlove, batch_sampler=dev_sampler)"
   ]
  },
  {
   "cell_type": "markdown",
   "metadata": {},
   "source": [
    "#### Process test dataset by using dataloader"
   ]
  },
  {
   "cell_type": "code",
   "execution_count": 80,
   "metadata": {},
   "outputs": [],
   "source": [
    "def collate_fnTest(batch):\n",
    "    data, raw = zip(*batch)\n",
    "    lens = [len(x) for x in data]\n",
    "    data = pad_sequence(data, batch_first=True, padding_value=glove_vocab[PAD])\n",
    "    return data, raw, torch.tensor(lens)"
   ]
  },
  {
   "cell_type": "code",
   "execution_count": 81,
   "metadata": {},
   "outputs": [],
   "source": [
    "test_glove_dl = DataLoader(test_GloVe_vectors, batch_size=len(test_GloVe_vectors),shuffle=False, collate_fn=collate_fnTest)"
   ]
  },
  {
   "cell_type": "markdown",
   "metadata": {},
   "source": [
    "## 5. BiLSTM-CRF POS Tagger Implementation"
   ]
  },
  {
   "cell_type": "markdown",
   "metadata": {},
   "source": [
    "## 6. Train"
   ]
  },
  {
   "cell_type": "markdown",
   "metadata": {},
   "source": [
    "### A. Before Training"
   ]
  },
  {
   "cell_type": "markdown",
   "metadata": {},
   "source": [
    "### BiLSTM Model - Random Embedding and GloVe embedding"
   ]
  },
  {
   "cell_type": "code",
   "execution_count": 82,
   "metadata": {},
   "outputs": [],
   "source": [
    "class BiLSTM(nn.Module):\n",
    "    def __init__(self, input_dim, output_dim, device, src_pad_idx):\n",
    "        super().__init__()\n",
    "        self.embedding = nn.Embedding(input_dim, EMBED_DIM, padding_idx = src_pad_idx)\n",
    "        self.dropout = nn.Dropout(DROPOUT)\n",
    "        self.lstm = nn.LSTM(EMBED_DIM, HIDDEN_DIM, num_layers=NUM_LAYERS, batch_first = True, bidirectional=BIDIRECTIONAL)\n",
    "        self.linear = nn.Linear(HIDDEN_DIM*2 if BIDIRECTIONAL else HIDDEN_DIM, output_dim)\n",
    "        self.device = device\n",
    "        \n",
    "    def init_hidden(self, batchSize):\n",
    "        direction_multiplier = 2 if BIDIRECTIONAL else 1\n",
    "        return (torch.randn(direction_multiplier * NUM_LAYERS, batchSize, HIDDEN_DIM, device=self.device), # h0\n",
    "                torch.randn(direction_multiplier * NUM_LAYERS, batchSize, HIDDEN_DIM, device=self.device)) # c0\n",
    "        \n",
    "    def forward(self, x):\n",
    "        self.hidden = self.init_hidden(x.shape[0]) #[sentLen, 2, HIDDEN_DIM]\n",
    "        embed = self.dropout(self.embedding(x)) #[batchSize, sentLen, EMBED_DIM]\n",
    "        outputs, (hidden, cell) = self.lstm(embed, self.hidden) #[batchSize, sentLen, EMBED_DIM]\n",
    "        outputs = self.linear(outputs)\n",
    "        return outputs\n",
    "\n",
    "class  BiLSTM_greedy(nn.Module):\n",
    "    def __init__(self, input_dim, output_dim, device, src_pad_idx):\n",
    "        super().__init__()\n",
    "        self.lstm = BiLSTM(input_dim, output_dim, device, src_pad_idx)\n",
    "\n",
    "    def loss_compute(self, src, tgt, criterion):\n",
    "        lstm_output = self.lstm(src)\n",
    "        predictions = lstm_output.view(-1, lstm_output.shape[-1])\n",
    "        tags = tgt.view(-1)\n",
    "        loss = criterion(predictions, tags)  \n",
    "        return loss, predictions, tags\n",
    "        \n",
    "    def forward(self, preds, y, tag_pad_idx):\n",
    "\n",
    "        max_preds = preds.argmax(dim = 1, keepdim = True)\n",
    "        non_pad_elements = (y != tag_pad_idx).nonzero()\n",
    "        correct = max_preds[non_pad_elements].squeeze(1).eq(y[non_pad_elements])\n",
    "        pred_seq = max_preds[non_pad_elements].squeeze(1)\n",
    "        score = correct.sum() / y[non_pad_elements].shape[0]\n",
    "        \n",
    "        return score, pred_seq.view(-1)"
   ]
  },
  {
   "cell_type": "code",
   "execution_count": 83,
   "metadata": {},
   "outputs": [],
   "source": [
    "class BiLSTM_Glove(nn.Module):\n",
    "    def __init__(self, GloVe_embed_dim, output_num, device, GloVe_vectors):\n",
    "        super().__init__()\n",
    "        self.embedding = nn.Embedding.from_pretrained(GloVe_vectors, freeze = True)\n",
    "        self.lstm = nn.LSTM(GloVe_embed_dim, HIDDEN_DIM, num_layers=NUM_LAYERS, batch_first = True, bidirectional=BIDIRECTIONAL)\n",
    "        self.linear = nn.Linear(HIDDEN_DIM*2 if BIDIRECTIONAL else HIDDEN_DIM, output_dim)\n",
    "        self.dropout = nn.Dropout(DROPOUT)\n",
    "        self.device = device\n",
    "        \n",
    "    def init_hidden(self, batchSize):\n",
    "        direction_multiplier = 2 if BIDIRECTIONAL else 1\n",
    "        return (torch.randn(direction_multiplier * NUM_LAYERS, batchSize, HIDDEN_DIM, device=self.device), # h0\n",
    "                torch.randn(direction_multiplier * NUM_LAYERS, batchSize, HIDDEN_DIM, device=self.device)) # c0\n",
    "        \n",
    "    def forward(self, x):\n",
    "        self.hidden = self.init_hidden(x.shape[0]) #[2, sentLen, HIDDEN_DIM]\n",
    "        word_embed = self.embedding(x)\n",
    "        embed = self.dropout(word_embed) #[batchSize, sentLen, EMBED_DIM]        \n",
    "        outputs, (hidden, cell) = self.lstm(embed, self.hidden) #[batchSize, sentLen, EMBED_DIM]\n",
    "        outputs = self.linear(outputs)\n",
    "        \n",
    "        return outputs\n",
    "\n",
    "class  BiLSTM_Glove_greedy(nn.Module):\n",
    "    def __init__(self, GloVe_embed_dim, output_num, device, pretrained_embeddings):\n",
    "        super().__init__()\n",
    "        self.lstm = BiLSTM_Glove(GloVe_embed_dim, output_num, device, pretrained_embeddings)\n",
    "\n",
    "    def loss_compute(self, src, tgt, criterion):\n",
    "        lstm_output = self.lstm(src)\n",
    "        predictions = lstm_output.view(-1, lstm_output.shape[-1])\n",
    "        tags = tgt.view(-1)\n",
    "        loss = criterion(predictions, tags)  \n",
    "        return loss, predictions, tags\n",
    "        \n",
    "    def forward(self, preds, y, tag_pad_idx):\n",
    "\n",
    "        max_preds = preds.argmax(dim = 1, keepdim = True) # get the index of the max probability\n",
    "        non_pad_elements = (y != tag_pad_idx).nonzero()\n",
    "        correct = max_preds[non_pad_elements].squeeze(1).eq(y[non_pad_elements])\n",
    "        pred_seq = max_preds[non_pad_elements].squeeze(1)\n",
    "        score = correct.sum() / y[non_pad_elements].shape[0]\n",
    "        \n",
    "        return score, pred_seq.view(-1)"
   ]
  },
  {
   "cell_type": "markdown",
   "metadata": {},
   "source": [
    "### B. Training \n",
    "#### Experiment 1"
   ]
  },
  {
   "cell_type": "code",
   "execution_count": 89,
   "metadata": {
    "scrolled": false
   },
   "outputs": [],
   "source": [
    "def train(model, dl_dataset, num_epoches, pad_idx):\n",
    "    optimizer = optim.Adam(model.parameters(), LEARNING_RATE)\n",
    "    criterion = nn.CrossEntropyLoss(ignore_index = pad_idx)\n",
    "    criterion = criterion.to(device)\n",
    "    \n",
    "    for i in range(num_epoches):\n",
    "        epoch_loss = 0\n",
    "        epoch_acc = 0\n",
    "        num_batch = 0\n",
    "\n",
    "        model.train()\n",
    "        for src, tgt, char, batch_lens in dl_dataset:\n",
    "            num_batch += 1\n",
    "            model.zero_grad()\n",
    "\n",
    "            loss, predictions, tags = model.loss_compute(src, tgt, criterion)\n",
    "            loss.backward()\n",
    "            optimizer.step()\n",
    "\n",
    "            score, pred_seq = model(predictions, tags, len(tgt_itos)) \n",
    "            epoch_loss += loss.item()\n",
    "            epoch_acc += score.item()\n",
    "        \n",
    "        print(\"Training Epoch # {} Loss: {:.2f} Acc: {:.2f}\".format(i+1, epoch_loss, epoch_acc/num_batch))"
   ]
  },
  {
   "cell_type": "code",
   "execution_count": 85,
   "metadata": {},
   "outputs": [],
   "source": [
    "def evaluate(model, dl_dataset, tag_pad_idx):\n",
    "    criterion = nn.CrossEntropyLoss(ignore_index = tag_pad_idx)\n",
    "    criterion = criterion.to(device)\n",
    "    \n",
    "    epoch_loss = 0\n",
    "    epoch_acc = 0\n",
    "    num_batch = 0\n",
    "    model.eval()\n",
    "    \n",
    "    with torch.no_grad():\n",
    "        for src, tgt, char, batch_lens in dl_dataset:\n",
    "            num_batch += 1\n",
    "\n",
    "            loss, predictions, tags = model.loss_compute(src, tgt, criterion)\n",
    "            max_preds = predictions.argmax(dim = 1, keepdim = True)\n",
    "            non_pad_elements = (tags != tag_pad_idx).nonzero()\n",
    "            pred_seq = max_preds[non_pad_elements].squeeze(1)\n",
    "            correct = max_preds[non_pad_elements].squeeze(1).eq(tags[non_pad_elements])\n",
    "            acc = correct.sum() / tags[non_pad_elements].shape[0]\n",
    "\n",
    "            epoch_loss += loss.item()\n",
    "            epoch_acc += acc.item()\n",
    "    print(\"Development Dataset Loss: {:.2f} Acc: {:.2f}\".format(epoch_loss, epoch_acc/num_batch))"
   ]
  },
  {
   "cell_type": "markdown",
   "metadata": {},
   "source": [
    "#### LSTM with Random Embedding"
   ]
  },
  {
   "cell_type": "code",
   "execution_count": 146,
   "metadata": {
    "scrolled": true
   },
   "outputs": [
    {
     "name": "stdout",
     "output_type": "stream",
     "text": [
      "Training Epoch # 1 Loss: 706.78 Acc: 0.64\n",
      "Training Epoch # 2 Loss: 270.47 Acc: 0.80\n",
      "Training Epoch # 3 Loss: 187.84 Acc: 0.83\n",
      "Training Epoch # 4 Loss: 147.43 Acc: 0.85\n",
      "Training Epoch # 5 Loss: 122.73 Acc: 0.86\n"
     ]
    }
   ],
   "source": [
    "input_dim = len(src_itos)\n",
    "output_dim = len(tgt_itos)\n",
    "\n",
    "model = BiLSTM_greedy(input_dim, output_dim, device, src_stoi[PAD]).to(device)\n",
    "train(model, train_dl, NUM_EPOCHS, tgt_stoi[PAD])"
   ]
  },
  {
   "cell_type": "code",
   "execution_count": 92,
   "metadata": {},
   "outputs": [
    {
     "name": "stdout",
     "output_type": "stream",
     "text": [
      "Development Dataset Loss: 4.75 Acc: 0.94\n"
     ]
    }
   ],
   "source": [
    "evaluate(model, dev_dl, tgt_stoi[PAD])"
   ]
  },
  {
   "cell_type": "code",
   "execution_count": 93,
   "metadata": {},
   "outputs": [
    {
     "data": {
      "image/png": "[encoded data removed]",
      "text/plain": [
       "<Figure size 432x288 with 2 Axes>"
      ]
     },
     "metadata": {
      "needs_background": "light"
     },
     "output_type": "display_data"
    }
   ],
   "source": [
    "loss = [704.80, 269.85, 187.09, 146.66, 121.68]\n",
    "acc = [0.64,0.80,0.83, 0.85, 0.86]\n",
    "\n",
    "fig,ax = plt.subplots()\n",
    "ax.plot([1,2,3,4,5], loss, color=\"red\", marker=\"o\")\n",
    "ax.set_xlabel(\"Epoches\",fontsize=14)\n",
    "ax.set_ylabel(\"Loss\",color=\"red\",fontsize=14)\n",
    "\n",
    "ax2=ax.twinx()\n",
    "ax2.plot([1,2,3,4,5], acc,color=\"blue\",marker=\"o\")\n",
    "ax2.set_ylabel(\"Accuracy\",color=\"blue\",fontsize=14)\n",
    "plt.show()"
   ]
  },
  {
   "cell_type": "markdown",
   "metadata": {},
   "source": [
    "#### LSTM with GloVe Embedding"
   ]
  },
  {
   "cell_type": "code",
   "execution_count": 94,
   "metadata": {},
   "outputs": [
    {
     "name": "stdout",
     "output_type": "stream",
     "text": [
      "Training Epoch # 1 Loss: 439.54 Acc: 0.74\n",
      "Training Epoch # 2 Loss: 168.38 Acc: 0.84\n",
      "Training Epoch # 3 Loss: 134.12 Acc: 0.85\n",
      "Training Epoch # 4 Loss: 118.02 Acc: 0.86\n",
      "Training Epoch # 5 Loss: 109.42 Acc: 0.86\n"
     ]
    }
   ],
   "source": [
    "GloVe_embed_dim = embedding_glove300.dim\n",
    "output_num = len(tgt_itos)\n",
    "\n",
    "model_Glove = BiLSTM_Glove_greedy(GloVe_embed_dim, output_num, device, pretrained_embeddings).to(device)\n",
    "train_predicted_GloVe_tag = train(model_Glove, train_glove_dl, NUM_EPOCHS, tgt_stoi[PAD])"
   ]
  },
  {
   "cell_type": "code",
   "execution_count": 95,
   "metadata": {},
   "outputs": [
    {
     "name": "stdout",
     "output_type": "stream",
     "text": [
      "Development Dataset Loss: 3.37 Acc: 0.95\n"
     ]
    }
   ],
   "source": [
    "pred_dev_GloVe = evaluate(model_Glove, dev_glove_dl, tgt_stoi[PAD])"
   ]
  },
  {
   "cell_type": "code",
   "execution_count": 97,
   "metadata": {},
   "outputs": [
    {
     "data": {
      "image/png": "[encoded data removed]",
      "text/plain": [
       "<Figure size 432x288 with 2 Axes>"
      ]
     },
     "metadata": {
      "needs_background": "light"
     },
     "output_type": "display_data"
    }
   ],
   "source": [
    "loss = [439.54, 168.38, 134.12, 118.02, 109.42]\n",
    "acc = [0.74,0.84,0.85, 0.86, 0.86]\n",
    "\n",
    "fig,ax = plt.subplots()\n",
    "ax.plot([1,2,3,4,5], loss, color=\"red\", marker=\"o\")\n",
    "ax.set_xlabel(\"Epoches\",fontsize=14)\n",
    "ax.set_ylabel(\"Loss\",color=\"red\",fontsize=14)\n",
    "\n",
    "ax2=ax.twinx()\n",
    "ax2.plot([1,2,3,4,5], acc,color=\"blue\",marker=\"o\")\n",
    "ax2.set_ylabel(\"Accuracy\",color=\"blue\",fontsize=14)\n",
    "plt.show()"
   ]
  },
  {
   "cell_type": "markdown",
   "metadata": {},
   "source": [
    "#### Experiment 2"
   ]
  },
  {
   "cell_type": "code",
   "execution_count": 98,
   "metadata": {},
   "outputs": [],
   "source": [
    "class CharEmbeddings(nn.Module):\n",
    "    def __init__(self, char_input, char_embed_dim, char_pad_idx):\n",
    "        super().__init__()\n",
    "        self.embeddings = nn.Embedding(char_input, char_embed_dim, padding_idx=char_pad_idx)\n",
    "\n",
    "    def forward(self, x, raw, char_length, char_max_length:int = 20):\n",
    "        batchSize, sentLen = x.shape #[batchSize, sentLen]\n",
    "        input_matrix = torch.zeros(batchSize, sentLen, char_max_length, dtype=torch.long)\n",
    "        \n",
    "        for i in range(batchSize):\n",
    "            for j in range(char_length[i]):\n",
    "                for k, char in enumerate(raw[i][j][:char_max_length]):\n",
    "                    if char in char_stoi:\n",
    "                        input_matrix[i,j,k] = char_stoi[char]\n",
    "                    else:\n",
    "                        input_matrix[i,j,k] = char_stoi[UNK]\n",
    "        char_embed = self.embeddings(input_matrix)\n",
    "        \n",
    "        return char_embed.permute(0, 1, 3, 2) # [batchSize, sentLen, char_embed_dim, char_max_length]"
   ]
  },
  {
   "cell_type": "code",
   "execution_count": 99,
   "metadata": {},
   "outputs": [],
   "source": [
    "class CharCNN(nn.Module):\n",
    "    def __init__(self, char_input, char_embed_dim, char_pad_idx, GloVe_embed_dim:int = 180, kernel_size:int = 3):\n",
    "        super().__init__()\n",
    "        self.embeddings = CharEmbeddings(char_input, char_embed_dim, char_pad_idx)\n",
    "        self.conv1d = nn.Conv1d(char_embed_dim, GloVe_embed_dim, kernel_size)\n",
    "\n",
    "    def forward(self, x, raw, char_length): # batchSize x sentLen x char_embeddings_dim x char_max_length\n",
    "        \n",
    "        char_embed = self.embeddings(x, raw, char_length)\n",
    "        batchSize, sentLen, char_embed_dim, char_max_length = char_embed.shape\n",
    "\n",
    "        max_pooling_out = torch.zeros(batchSize, sentLen, GloVe_embed_dim)\n",
    "        for k in range(batchSize):\n",
    "            conv = F.relu(self.conv1d(char_embed[k]))\n",
    "            conv = F.max_pool1d(conv, conv.shape[-1])\n",
    "            conv = torch.squeeze(conv, -1)\n",
    "            max_pooling_out[k] = conv\n",
    "        return max_pooling_out # [batchSize, sentLen, embed_dim]"
   ]
  },
  {
   "cell_type": "code",
   "execution_count": 100,
   "metadata": {},
   "outputs": [],
   "source": [
    "class BiLSTM_CNN(nn.Module):\n",
    "    def __init__(self, GloVe_embed_dim, char_input, char_embed_dim, output_num, device, char_pad_idx, GloVe_vectors):\n",
    "        super().__init__()\n",
    "        self.embedding = nn.Embedding.from_pretrained(GloVe_vectors, freeze = True)\n",
    "        self.charEmbedding = CharCNN(char_input, char_embed_dim, char_pad_idx, GloVe_embed_dim)\n",
    "        \n",
    "        self.lstm = nn.LSTM(GloVe_embed_dim, HIDDEN_DIM, num_layers=NUM_LAYERS, batch_first = True, bidirectional=BIDIRECTIONAL)\n",
    "        self.linear = nn.Linear(HIDDEN_DIM*2 if BIDIRECTIONAL else HIDDEN_DIM, output_num)\n",
    "        self.dropout = nn.Dropout(DROPOUT)\n",
    "        self.device = device\n",
    "        \n",
    "    def init_hidden(self, batchSize):\n",
    "        direction_multiplier = 2 if BIDIRECTIONAL else 1\n",
    "        return (torch.randn(direction_multiplier * NUM_LAYERS, batchSize, HIDDEN_DIM, device=self.device), # h0\n",
    "                torch.randn(direction_multiplier * NUM_LAYERS, batchSize, HIDDEN_DIM, device=self.device)) # c0\n",
    "        \n",
    "    def forward(self, x, raw, char_length):\n",
    "        char_embed = self.charEmbedding(x, raw, char_length)\n",
    "        word_embed = self.embedding(x)\n",
    "        embed = char_embed + word_embed\n",
    "        \n",
    "        embed = self.dropout(embed) #[batchSize, sentLen, EMBED_DIM]      \n",
    "        self.hidden = self.init_hidden(embed.shape[0]) #[2, sentLen, HIDDEN_DIM]\n",
    "        outputs, (hidden, cell) = self.lstm(embed, self.hidden) #[batchSize, sentLen, EMBED_DIM]\n",
    "        outputs = self.linear(outputs)\n",
    "        return outputs\n",
    "\n",
    "class  BiLSTM_CNN_greedy(nn.Module):\n",
    "    def __init__(self, GloVe_embed_dim, char_input_dim, char_embed_dim, output_num, device, char_pad_idx, pretrained_embeddings):\n",
    "        super().__init__()\n",
    "        self.lstm = BiLSTM_CNN(GloVe_embed_dim, char_input_dim, char_embed_dim, output_num, device, char_pad_idx, pretrained_embeddings)\n",
    "\n",
    "    def loss_compute(self, x, raw, char_length, tgt, criterion):\n",
    "        lstm_output = self.lstm(x, raw, char_length)\n",
    "        predictions = lstm_output.view(-1, lstm_output.shape[-1])\n",
    "        tags = tgt.view(-1)\n",
    "        loss = criterion(predictions, tags)  \n",
    "        return loss, predictions, tags\n",
    "        \n",
    "    def forward(self, preds, y, tag_pad_idx):\n",
    "\n",
    "        max_preds = preds.argmax(dim = 1, keepdim = True) # get the index of the max probability\n",
    "        non_pad_elements = (y != tag_pad_idx).nonzero()\n",
    "        correct = max_preds[non_pad_elements].squeeze(1).eq(y[non_pad_elements])\n",
    "        pred_seq = max_preds[non_pad_elements].squeeze(1)\n",
    "        score = correct.sum() / y[non_pad_elements].shape[0]\n",
    "        \n",
    "        return score, pred_seq.view(-1)"
   ]
  },
  {
   "cell_type": "code",
   "execution_count": 101,
   "metadata": {},
   "outputs": [],
   "source": [
    "def train_CNN(model, dl_dataset, num_epoches, tag_pad_idx):\n",
    "    optimizer = optim.Adam(model.parameters(), LEARNING_RATE)\n",
    "    criterion = nn.CrossEntropyLoss(ignore_index = tag_pad_idx)\n",
    "    criterion = criterion.to(device)\n",
    "    \n",
    "    for i in range(num_epoches):\n",
    "        epoch_loss = 0\n",
    "        epoch_acc = 0\n",
    "        num_batch = 0\n",
    "\n",
    "        model.train()\n",
    "        for src, tgt, raw, batch_lens in tqdm(dl_dataset, desc=f\"[Training {i+1}/{num_epoches}]\"):\n",
    "            num_batch += 1\n",
    "            model.zero_grad()\n",
    "\n",
    "            loss, predictions, tags = model.loss_compute(src, raw, batch_lens, tgt, criterion)\n",
    "            loss.backward()\n",
    "            optimizer.step()\n",
    "\n",
    "            score, pred_seq = model(predictions, tags, tag_pad_idx) \n",
    "            epoch_loss += loss.item()\n",
    "            epoch_acc += score.item()\n",
    "        \n",
    "        print(\"Training Epoch # {} Loss: {:.2f} Acc: {:.2f}\".format(i+1, epoch_loss, epoch_acc/num_batch))"
   ]
  },
  {
   "cell_type": "code",
   "execution_count": 102,
   "metadata": {},
   "outputs": [],
   "source": [
    "def evaluate_CNN(model, dl_dataset, tag_pad_idx):\n",
    "    criterion = nn.CrossEntropyLoss(ignore_index = tag_pad_idx)\n",
    "    criterion = criterion.to(device)\n",
    "\n",
    "    epoch_loss = 0\n",
    "    epoch_acc = 0\n",
    "    num_batch = 0\n",
    "    model.eval()\n",
    "    \n",
    "    with torch.no_grad():\n",
    "        for src, tgt, raw, batch_lens in dl_dataset:\n",
    "            num_batch += 1\n",
    "\n",
    "            loss, predictions, tags = model.loss_compute(src, raw, batch_lens, tgt, criterion)\n",
    "            max_preds = predictions.argmax(dim = 1, keepdim = True)\n",
    "            non_pad_elements = (tags != tag_pad_idx).nonzero()\n",
    "            pred_seq = max_preds[non_pad_elements].squeeze(1)\n",
    "            correct = max_preds[non_pad_elements].squeeze(1).eq(tags[non_pad_elements])\n",
    "            acc = correct.sum() / tags[non_pad_elements].shape[0]\n",
    "        \n",
    "            epoch_loss += loss.item()\n",
    "            epoch_acc += acc.item()\n",
    "    print(\"Development Dataset Loss: {:.2f} Acc: {:.2f}\".format(epoch_loss, epoch_acc/num_batch))"
   ]
  },
  {
   "cell_type": "code",
   "execution_count": 68,
   "metadata": {
    "scrolled": false
   },
   "outputs": [
    {
     "data": {
      "application/vnd.jupyter.widget-view+json": {
       "model_id": "d1ac5bffd937408fa7c0c35092a34540",
       "version_major": 2,
       "version_minor": 0
      },
      "text/plain": [
       "HBox(children=(IntProgress(value=0, description='[Training 1/5]', max=39832, style=ProgressStyle(description_w…"
      ]
     },
     "metadata": {},
     "output_type": "display_data"
    },
    {
     "name": "stdout",
     "output_type": "stream",
     "text": [
      "\n",
      "Training Epoch # 1 Loss: 294.40 Acc: 0.88\n"
     ]
    },
    {
     "data": {
      "application/vnd.jupyter.widget-view+json": {
       "model_id": "9a29d4cd9efb488ca57878c900bf6315",
       "version_major": 2,
       "version_minor": 0
      },
      "text/plain": [
       "HBox(children=(IntProgress(value=0, description='[Training 2/5]', max=39832, style=ProgressStyle(description_w…"
      ]
     },
     "metadata": {},
     "output_type": "display_data"
    },
    {
     "name": "stdout",
     "output_type": "stream",
     "text": [
      "\n",
      "Training Epoch # 2 Loss: 103.12 Acc: 0.95\n"
     ]
    },
    {
     "data": {
      "application/vnd.jupyter.widget-view+json": {
       "model_id": "0c3d61e378004ed49a16d420178e70d6",
       "version_major": 2,
       "version_minor": 0
      },
      "text/plain": [
       "HBox(children=(IntProgress(value=0, description='[Training 3/5]', max=39832, style=ProgressStyle(description_w…"
      ]
     },
     "metadata": {},
     "output_type": "display_data"
    },
    {
     "name": "stdout",
     "output_type": "stream",
     "text": [
      "\n",
      "Training Epoch # 3 Loss: 85.75 Acc: 0.96\n"
     ]
    },
    {
     "data": {
      "application/vnd.jupyter.widget-view+json": {
       "model_id": "77df5133e89045a7b97b9d9fa61debd6",
       "version_major": 2,
       "version_minor": 0
      },
      "text/plain": [
       "HBox(children=(IntProgress(value=0, description='[Training 4/5]', max=39832, style=ProgressStyle(description_w…"
      ]
     },
     "metadata": {},
     "output_type": "display_data"
    },
    {
     "name": "stdout",
     "output_type": "stream",
     "text": [
      "\n",
      "Training Epoch # 4 Loss: 76.25 Acc: 0.96\n"
     ]
    },
    {
     "data": {
      "application/vnd.jupyter.widget-view+json": {
       "model_id": "9226003e50c3422f890ea0a5eb599e65",
       "version_major": 2,
       "version_minor": 0
      },
      "text/plain": [
       "HBox(children=(IntProgress(value=0, description='[Training 5/5]', max=39832, style=ProgressStyle(description_w…"
      ]
     },
     "metadata": {},
     "output_type": "display_data"
    },
    {
     "name": "stdout",
     "output_type": "stream",
     "text": [
      "\n",
      "Training Epoch # 5 Loss: 70.28 Acc: 0.96\n"
     ]
    }
   ],
   "source": [
    "GloVe_embed_dim = embedding_glove300.dim\n",
    "char_input = len(char_stoi)\n",
    "char_embed_dim = 100\n",
    "output_num = len(tgt_itos)\n",
    "\n",
    "model_CNN = BiLSTM_CNN_greedy(GloVe_embed_dim, char_input, char_embed_dim, \n",
    "                              output_num, device, char_stoi[PAD], pretrained_embeddings).to(device)\n",
    "train_CNN(model_CNN, train_glove_dl, NUM_EPOCHS, tgt_stoi[PAD])"
   ]
  },
  {
   "cell_type": "code",
   "execution_count": 69,
   "metadata": {},
   "outputs": [
    {
     "name": "stdout",
     "output_type": "stream",
     "text": [
      "Development Dataset Loss: 2.37 Acc: 0.96\n"
     ]
    }
   ],
   "source": [
    "evaluate_CNN(model_CNN, dev_glove_dl, tgt_stoi[PAD])"
   ]
  },
  {
   "cell_type": "code",
   "execution_count": 103,
   "metadata": {},
   "outputs": [
    {
     "data": {
      "image/png": "[encoded data removed]",
      "text/plain": [
       "<Figure size 432x288 with 2 Axes>"
      ]
     },
     "metadata": {
      "needs_background": "light"
     },
     "output_type": "display_data"
    }
   ],
   "source": [
    "loss = [294.40, 103.12, 85.75, 76.25, 70.28]\n",
    "acc = [0.88,0.95,0.96, 0.96, 0.96]\n",
    "\n",
    "fig,ax = plt.subplots()\n",
    "ax.plot([1,2,3,4,5], loss, color=\"red\", marker=\"o\")\n",
    "ax.set_xlabel(\"Epoches\",fontsize=14)\n",
    "ax.set_ylabel(\"Loss\",color=\"red\",fontsize=14)\n",
    "\n",
    "ax2=ax.twinx()\n",
    "ax2.plot([1,2,3,4,5], acc,color=\"blue\",marker=\"o\")\n",
    "ax2.set_ylabel(\"Accuracy\",color=\"blue\",fontsize=14)\n",
    "plt.show()"
   ]
  },
  {
   "cell_type": "markdown",
   "metadata": {},
   "source": [
    "#### Experiment 3"
   ]
  },
  {
   "cell_type": "code",
   "execution_count": 104,
   "metadata": {},
   "outputs": [],
   "source": [
    "class CRF(nn.Module):\n",
    "    def __init__(self, tgt_vocab, device):\n",
    "        super().__init__()\n",
    "        self.tgt_itos, self.tgt_stoi = tgt_vocab\n",
    "        self.tag_size = len(self.tgt_itos)\n",
    "        self.device = device\n",
    "        \n",
    "        self.start_transitions = nn.Parameter(torch.empty(self.tag_size, device=device))\n",
    "        self.end_transitions = nn.Parameter(torch.empty(self.tag_size, device=device))\n",
    "        self.transitions = nn.Parameter(torch.empty(self.tag_size, self.tag_size, device=device))\n",
    "\n",
    "        self.reset_parameters()\n",
    "        \n",
    "    def reset_parameters(self) -> None:\n",
    "        nn.init.uniform_(self.start_transitions, -0.1, 0.1)\n",
    "        nn.init.uniform_(self.end_transitions, -0.1, 0.1)\n",
    "        nn.init.uniform_(self.transitions, -0.1, 0.1)\n",
    "    \n",
    "    def forward(self, feats, lens):\n",
    "        emissions = feats.transpose(0, 1)\n",
    "        seq_length, batch_size, _ = emissions.shape\n",
    "        \n",
    "        mask = torch.transpose(torch.arange(seq_length).expand(len(lens), seq_length) < lens.unsqueeze(1), 0, 1)\n",
    "        score = self.start_transitions + emissions[0]\n",
    "        \n",
    "        for i in range(1, seq_length):\n",
    "            cast_score = score.unsqueeze(2)\n",
    "            cast_emission = emissions[i].unsqueeze(1)\n",
    "            next_ = torch.logsumexp(cast_score + self.transitions + cast_emission, dim=1)\n",
    "            score = torch.where(mask[i].unsqueeze(1), next_, score)\n",
    "        score += self.end_transitions\n",
    "        res = torch.logsumexp(score, dim = 1)\n",
    "        return res\n",
    "\n",
    "    def score(self, feats, tags, batch_lens):\n",
    "        emissions = feats.transpose(0,1)\n",
    "        tags = tags.transpose(0,1)\n",
    "        seq_length, batch_size = tags.shape\n",
    "        \n",
    "        mask = (tags != tgt_stoi[PAD])\n",
    "        tags = tags * mask\n",
    "\n",
    "        score = self.start_transitions[tags[0]]\n",
    "        score += emissions[0, torch.arange(batch_size), tags[0]]\n",
    "\n",
    "        for i in range(1, seq_length):\n",
    "            score += self.transitions[tags[i - 1], tags[i]] * mask[i]\n",
    "            score += emissions[i, torch.arange(batch_size), tags[i]] * mask[i]\n",
    "\n",
    "        seq_ends = batch_lens - 1\n",
    "        last_tags = tags[seq_ends, torch.arange(batch_size)]\n",
    "        score += self.end_transitions[last_tags]\n",
    "        return score\n",
    "\n",
    "    def viterbi(self, feats, batch_lens):\n",
    "        # emissions: (seq_length, batch_size, num_tags)\n",
    "        emissions = feats.transpose(0,1)\n",
    "        seq_length, batch_size, _ = emissions.shape\n",
    "        mask = torch.transpose(torch.arange(seq_length).expand(len(batch_lens), seq_length) < batch_lens.unsqueeze(1), 0, 1)\n",
    "        score = self.start_transitions + emissions[0]\n",
    "        history = []\n",
    "\n",
    "        for i in range(1, seq_length):\n",
    "            broadcast_score = score.unsqueeze(2)\n",
    "            broadcast_emission = emissions[i].unsqueeze(1)\n",
    "            next_score = broadcast_score + self.transitions + broadcast_emission\n",
    "            next_score, indices = next_score.max(dim=1)\n",
    "            score = torch.where(mask[i].unsqueeze(1), next_score, score)\n",
    "            history.append(indices)\n",
    "        \n",
    "        score += self.end_transitions\n",
    "        seq_ends = mask.long().sum(dim=0) - 1\n",
    "        best_tags_list = []\n",
    "\n",
    "        for idx in range(batch_size):\n",
    "            \n",
    "            _, best_last_tag = score[idx].max(dim=0)\n",
    "            best_tags = [best_last_tag.item()]\n",
    "            \n",
    "            for hist in reversed(history[:seq_ends[idx]]):\n",
    "                best_last_tag = hist[idx][best_tags[-1]]\n",
    "                best_tags.append(best_last_tag.item())\n",
    "                \n",
    "            best_tags.reverse()\n",
    "            best_tags_list.append(best_tags)\n",
    "        return best_tags_list\n",
    "\n",
    "class  BiLSTM_CRF(nn.Module):\n",
    "    def __init__(self, GloVe_embed_dim, char_input, char_embed_dim, output_num, device, char_pad_idx, pretrained_embeddings, tgt_vocab):\n",
    "        super().__init__()\n",
    "        self.lstm = BiLSTM_CNN(GloVe_embed_dim, char_input, char_embed_dim, output_num, device, char_pad_idx, pretrained_embeddings)\n",
    "        self.crf = CRF(tgt_vocab, device)\n",
    "    \n",
    "    def neg_log_likelihood(self, src, raw, tgt, batch_lens):\n",
    "        feats = self.lstm(src, raw, batch_lens)\n",
    "        forward_score = self.crf(feats, batch_lens)\n",
    "        gold_score = self.crf.score(feats, tgt, batch_lens)\n",
    "        return torch.sum(forward_score - gold_score)\n",
    "\n",
    "    def forward(self, src, raw, batch_lens):\n",
    "        feats = self.lstm(src, raw, batch_lens)\n",
    "        out = self.crf.viterbi(feats, batch_lens)\n",
    "        return out "
   ]
  },
  {
   "cell_type": "code",
   "execution_count": 105,
   "metadata": {},
   "outputs": [],
   "source": [
    "def train_CRF(model, dl_dataset, num_epoches):\n",
    "    optimizer = optim.Adam(model.parameters(), LEARNING_RATE)\n",
    "    \n",
    "    for i in range(num_epoches):\n",
    "        epoch_loss = 0\n",
    "        num_correct = 0\n",
    "        num_batch = 0\n",
    "        num_tag = 0\n",
    "        epoch_acc = 0\n",
    "\n",
    "        model.train()\n",
    "        for src, tgt, raw, batch_lens in tqdm(dl_dataset, desc=f\"[Training {i+1}/{num_epoches}]\"):\n",
    "            num_batch += 1\n",
    "            model.zero_grad()\n",
    "\n",
    "            loss = model.neg_log_likelihood(src, raw, tgt, batch_lens)\n",
    "            loss.backward()\n",
    "            optimizer.step()\n",
    "            pred = model(src, raw, batch_lens)\n",
    "            \n",
    "            for i in range(src.shape[0]):\n",
    "                length = batch_lens[i]\n",
    "                num_correct += (torch.tensor(pred[i]) == tgt[i, :length]).sum()\n",
    "                num_tag += length\n",
    "\n",
    "            epoch_loss += loss.item()\n",
    "            epoch_acc = num_correct.item()/num_tag\n",
    "        \n",
    "        print(\"Training Epoch # {} Loss: {:.2f} Acc: {:.2f}\".format(i+1, epoch_loss/num_batch, epoch_acc))"
   ]
  },
  {
   "cell_type": "code",
   "execution_count": 106,
   "metadata": {},
   "outputs": [],
   "source": [
    "def evaluate_CRF(model, dl_dataset):\n",
    "    \n",
    "    num_correct = 0\n",
    "    num_batch = 0\n",
    "    num_tag = 0\n",
    "    epoch_acc = 0\n",
    "    epoch_loss = 0\n",
    "    \n",
    "    model.eval()\n",
    "    \n",
    "    with torch.no_grad():\n",
    "        for src, tgt, raw, batch_lens in tqdm(dl_dataset):\n",
    "            num_batch += 1\n",
    "\n",
    "            loss = model.neg_log_likelihood(src, raw, tgt, batch_lens)\n",
    "            pred = model(src, raw, batch_lens)\n",
    "            \n",
    "            for i in range(src.shape[0]):\n",
    "                length = batch_lens[i]\n",
    "                num_correct += (torch.tensor(pred[i]) == tgt[i, :length]).sum()\n",
    "                num_tag += length\n",
    "\n",
    "            epoch_loss += loss.item()\n",
    "            epoch_acc = num_correct.item()/num_tag\n",
    "        \n",
    "        print(\"Training Epoch # {} Loss: {:.2f} Acc: {:.2f}\".format(i+1, epoch_loss/num_batch, epoch_acc))"
   ]
  },
  {
   "cell_type": "code",
   "execution_count": 107,
   "metadata": {
    "scrolled": false
   },
   "outputs": [
    {
     "data": {
      "application/vnd.jupyter.widget-view+json": {
       "model_id": "a3a2f8b9d2f145f5be4bf3e91ae7f285",
       "version_major": 2,
       "version_minor": 0
      },
      "text/plain": [
       "HBox(children=(IntProgress(value=0, description='[Training 1/5]', max=39832, style=ProgressStyle(description_w…"
      ]
     },
     "metadata": {},
     "output_type": "display_data"
    },
    {
     "name": "stdout",
     "output_type": "stream",
     "text": [
      "\n",
      "Training Epoch # 60 Loss: 589.03 Acc: 0.89\n"
     ]
    },
    {
     "data": {
      "application/vnd.jupyter.widget-view+json": {
       "model_id": "329cef78a8874bbf81712ee82e291541",
       "version_major": 2,
       "version_minor": 0
      },
      "text/plain": [
       "HBox(children=(IntProgress(value=0, description='[Training 2/5]', max=39832, style=ProgressStyle(description_w…"
      ]
     },
     "metadata": {},
     "output_type": "display_data"
    },
    {
     "name": "stdout",
     "output_type": "stream",
     "text": [
      "\n",
      "Training Epoch # 60 Loss: 188.14 Acc: 0.96\n"
     ]
    },
    {
     "data": {
      "application/vnd.jupyter.widget-view+json": {
       "model_id": "8ebbefe4aaf04624bc6db352dd0514fc",
       "version_major": 2,
       "version_minor": 0
      },
      "text/plain": [
       "HBox(children=(IntProgress(value=0, description='[Training 3/5]', max=39832, style=ProgressStyle(description_w…"
      ]
     },
     "metadata": {},
     "output_type": "display_data"
    },
    {
     "name": "stdout",
     "output_type": "stream",
     "text": [
      "\n",
      "Training Epoch # 60 Loss: 155.23 Acc: 0.96\n"
     ]
    },
    {
     "data": {
      "application/vnd.jupyter.widget-view+json": {
       "model_id": "8c8441d91135432f9fe0647e64829bb7",
       "version_major": 2,
       "version_minor": 0
      },
      "text/plain": [
       "HBox(children=(IntProgress(value=0, description='[Training 4/5]', max=39832, style=ProgressStyle(description_w…"
      ]
     },
     "metadata": {},
     "output_type": "display_data"
    },
    {
     "name": "stdout",
     "output_type": "stream",
     "text": [
      "\n",
      "Training Epoch # 60 Loss: 139.75 Acc: 0.97\n"
     ]
    },
    {
     "data": {
      "application/vnd.jupyter.widget-view+json": {
       "model_id": "1c6425744dbb404d8cbf7735fc07741e",
       "version_major": 2,
       "version_minor": 0
      },
      "text/plain": [
       "HBox(children=(IntProgress(value=0, description='[Training 5/5]', max=39832, style=ProgressStyle(description_w…"
      ]
     },
     "metadata": {},
     "output_type": "display_data"
    },
    {
     "name": "stdout",
     "output_type": "stream",
     "text": [
      "\n",
      "Training Epoch # 60 Loss: 130.35 Acc: 0.97\n"
     ]
    }
   ],
   "source": [
    "GloVe_embed_dim = embedding_glove300.dim\n",
    "char_input = len(char_stoi)\n",
    "char_embed_dim = 100\n",
    "output_num = len(tgt_itos)\n",
    "\n",
    "model_crf = BiLSTM_CRF(GloVe_embed_dim, char_input, char_embed_dim, output_num, device, char_stoi[PAD], pretrained_embeddings, tgt_vocab).to(device)\n",
    "train_pred_GloVeCNN_tag = train_CRF(model_crf, train_glove_dl, NUM_EPOCHS)"
   ]
  },
  {
   "cell_type": "code",
   "execution_count": 108,
   "metadata": {},
   "outputs": [
    {
     "data": {
      "application/vnd.jupyter.widget-view+json": {
       "model_id": "7ff95d1f239146c0a0e8f7592c354a37",
       "version_major": 2,
       "version_minor": 0
      },
      "text/plain": [
       "HBox(children=(IntProgress(value=0, max=1700), HTML(value='')))"
      ]
     },
     "metadata": {},
     "output_type": "display_data"
    },
    {
     "name": "stdout",
     "output_type": "stream",
     "text": [
      "\n",
      "Training Epoch # 60 Loss: 128.05 Acc: 0.97\n"
     ]
    }
   ],
   "source": [
    "pred_dev_GloVeCRF = evaluate_CRF(model_crf, dev_glove_dl)"
   ]
  },
  {
   "cell_type": "code",
   "execution_count": 113,
   "metadata": {},
   "outputs": [
    {
     "data": {
      "image/png": "[encoded data removed]",
      "text/plain": [
       "<Figure size 432x288 with 2 Axes>"
      ]
     },
     "metadata": {
      "needs_background": "light"
     },
     "output_type": "display_data"
    }
   ],
   "source": [
    "loss = [589.03, 188.14, 155.23, 139.75, 30.35]\n",
    "acc = [0.89, 0.96, 0.96, 0.97, 0.97]\n",
    "\n",
    "fig,ax = plt.subplots()\n",
    "ax.plot([1,2,3,4,5], loss, color=\"red\", marker=\"o\")\n",
    "ax.set_xlabel(\"Epoches\",fontsize=14)\n",
    "ax.set_ylabel(\"Loss\",color=\"red\",fontsize=14)\n",
    "\n",
    "ax2=ax.twinx()\n",
    "ax2.plot([1,2,3,4,5], acc,color=\"blue\",marker=\"o\")\n",
    "ax2.set_ylabel(\"Accuracy\",color=\"blue\",fontsize=14)\n",
    "plt.show()"
   ]
  },
  {
   "cell_type": "markdown",
   "metadata": {},
   "source": [
    "### C. After Training"
   ]
  },
  {
   "cell_type": "code",
   "execution_count": 109,
   "metadata": {},
   "outputs": [],
   "source": [
    "def get_Pred_CRF(model, dl_dataset):\n",
    "    num_batch = 0\n",
    "    model.eval()\n",
    "    \n",
    "    with torch.no_grad():\n",
    "        for src, raw, batch_lens in tqdm(dl_dataset):\n",
    "            num_batch += 1\n",
    "            pred = model(src, raw, batch_lens)\n",
    "    return pred"
   ]
  },
  {
   "cell_type": "code",
   "execution_count": 110,
   "metadata": {
    "scrolled": true
   },
   "outputs": [
    {
     "data": {
      "application/vnd.jupyter.widget-view+json": {
       "model_id": "86c33dc14b5e46a9b9ebf9cd749373c5",
       "version_major": 2,
       "version_minor": 0
      },
      "text/plain": [
       "HBox(children=(IntProgress(value=0, max=1), HTML(value='')))"
      ]
     },
     "metadata": {},
     "output_type": "display_data"
    },
    {
     "name": "stdout",
     "output_type": "stream",
     "text": [
      "\n"
     ]
    }
   ],
   "source": [
    "pred_test_GloVeCRF = get_Pred_CRF(model_crf, test_glove_dl)"
   ]
  },
  {
   "cell_type": "code",
   "execution_count": 111,
   "metadata": {},
   "outputs": [],
   "source": [
    "# for i, x in enumerate(pred_test_GloVeCRF):\n",
    "#     line = [\"_\".join((test_data[i][j], tgt_itos[word])) for j, word in enumerate(x)]\n",
    "#     print(\" \".join(line))"
   ]
  },
  {
   "cell_type": "code",
   "execution_count": 112,
   "metadata": {},
   "outputs": [],
   "source": [
    "with open('ptb_23.tagged', 'w') as f:\n",
    "    for i, x in enumerate(pred_test_GloVeCRF):\n",
    "        line = [\"_\".join((test_data[i][j], tgt_itos[word])) for j, word in enumerate(x)]\n",
    "        f.write(\" \".join(line))\n",
    "        f.write(\"\\n\")"
   ]
  }
 ],
 "metadata": {
  "kernelspec": {
   "display_name": "Python 3",
   "language": "python",
   "name": "python3"
  },
  "language_info": {
   "codemirror_mode": {
    "name": "ipython",
    "version": 3
   },
   "file_extension": ".py",
   "mimetype": "text/x-python",
   "name": "python",
   "nbconvert_exporter": "python",
   "pygments_lexer": "ipython3",
   "version": "3.7.10"
  }
 },
 "nbformat": 4,
 "nbformat_minor": 4
}
