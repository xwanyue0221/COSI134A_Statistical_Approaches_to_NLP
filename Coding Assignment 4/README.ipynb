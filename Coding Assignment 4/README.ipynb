{
 "cells": [
  {
   "cell_type": "markdown",
   "metadata": {},
   "source": [
    "# PA4 README\n",
    "\n",
    "COSI-134A: StatNLP\n",
    "\n",
    "Nov 24, 2021\n",
    "\n",
    "Jayeol Chun\n",
    "\n",
    "[jchun@brandeis.edu](mailto:jchun@brandeis.edu)"
   ]
  },
  {
   "cell_type": "markdown",
   "metadata": {},
   "source": [
    "## Due Date\n",
    "Dec. 15, 2021\n",
    "* one week after the last day of class"
   ]
  },
  {
   "cell_type": "markdown",
   "metadata": {},
   "source": [
    "## What You Need to Do\n",
    "1. Implement `BahdanauAttentionDecoder`\n",
    "2. Implement Dot-Product `LuongAttentionDecoder`\n",
    "3. Implement General `LuongAttentionDecoder`\n",
    "4. Run experiments with various combinations of hyperparameters to achieve best parsing performance\n",
    "   1. Train a **Vanilla** Seq2Seq that does not use any attention mechanism. Tune the hyperparameters to get the best performance\n",
    "   2. Train a Seq2Seq with **Bahdanau** attentional decoder. Tune the hyperparameters to get the best performance\n",
    "   3. Train a Seq2Seq with **Luong Dot-Product** attentional decoder. Tune the hyperparameters to get the best performance\n",
    "   4. Train a Seq2Seq with **Luong General** attentional decoder. Tune the hyperparameters to get the best performance\n",
    "5. Write and submit a report discussing experimental results\n",
    "6. Also submit [PA4 Notebook](./PA4.ipynb) (if using Google Colab) or [seq2seq.py](./seq2seq.py), which contains your attentional decoder implementations.\n",
    "  * Note that this is the only file you need to modify in theory; in case you need to change any other files (which you are welcome to do) make sure to submit them as well\n"
   ]
  },
  {
   "cell_type": "markdown",
   "metadata": {},
   "source": [
    "## Attentions\n",
    "See Recitation Week 13"
   ]
  },
  {
   "cell_type": "markdown",
   "metadata": {},
   "source": [
    "## Setup\n",
    "```shell\n",
    "pip install -r requirements.txt\n",
    "```\n",
    "Note that `requirements.txt` does not provide any specific versions.\n",
    "The source code was tested with versions in `requirements_with_versions.txt`:\n",
    "```\n",
    "nltk==3.6.5\n",
    "numpy==1.21.3\n",
    "sacrebleu==2.0.0\n",
    "torch==1.9.0\n",
    "tqdm==4.62.3\n",
    "```\n",
    "You won't have to get the exact same versions, but you may encounter errors if the different versions have any breaking changes.\n"
   ]
  },
  {
   "cell_type": "markdown",
   "metadata": {},
   "source": [
    "## Starter Code\n",
    "We provide 2 either-or options for working on PA4:\n"
   ]
  },
  {
   "cell_type": "markdown",
   "metadata": {},
   "source": [
    "## Option 1. using Google Colab\n",
    "See [PA4 Notebook](./PA4.ipynb).\n",
    "It will help nevertheless to look at .py files because we import and use them in the Notebook.\n",
    "\n"
   ]
  },
  {
   "cell_type": "markdown",
   "metadata": {},
   "source": [
    "## Option 2. running .py files\n",
    "This is primarily for those who have access to GPU either at home or on some remote server, and hence don't need to use Google Colab.\n"
   ]
  },
  {
   "cell_type": "markdown",
   "metadata": {},
   "source": [
    "There are three scripts to be run sequentially.\n",
    "* Note that the starter code trains a Vanilla Seq2Seq out-of-the-box"
   ]
  },
  {
   "cell_type": "markdown",
   "metadata": {},
   "source": [
    "### 1. Prepare Data\n",
    "[prepare_data.py](./prepare_data.py) loads raw PTB dataset, performs preprocessing at the token level and exports the outputs for future use.\n",
    "```shell \n",
    "$ python prepare_data.py --help\n",
    "\n",
    "usage: PA4 Data Preprocessing Argparser [-h] [--ptb_dir PTB_DIR] [--out_dir OUT_DIR] [--lower] [--reverse] [--prune] [--XX_norm] [--closing_tag] [--keep_index]\n",
    "\n",
    "optional arguments:\n",
    "  -h, --help         show this help message and exit\n",
    "  --ptb_dir PTB_DIR  path to ptb directory\n",
    "  --out_dir OUT_DIR  path to ptb outputs\n",
    "  --lower            whether to lower all sentence strings\n",
    "  --reverse          whether to reverse the source sentences\n",
    "  --prune            whether to remove parenthesis for leaf POS tags\n",
    "  --XX_norm          whether to normalize all POS tags to XX\n",
    "  --closing_tag      whether to attach closing POS tags\n",
    "  --keep_index       whether to keep trace indices\n",
    "```"
   ]
  },
  {
   "cell_type": "markdown",
   "metadata": {},
   "source": [
    "#### Source-side Preprocessing\n",
    "* `--lower`: lower-case all source sentences\n",
    "* `--reverse_sent`: reverse all source sentences\n",
    "* `--keep_index`: drop tracing index\n",
    "    * e.g. drop `-1` from `*T*-1` to get `*T*`"
   ]
  },
  {
   "cell_type": "markdown",
   "metadata": {},
   "source": [
    "#### Target-side Preprocessing\n",
    "Our chief aim here is to linearize a phrase structure tree, which is bracketed and has POS tags as its vocabularies.\n",
    "* `--prune`: leaf POS tags introduce an additional set of parenthesis with itself being the only element within; whether to remove this parenthesis.\n",
    "    * e.g. `(TAG1 (TAG2 ) )` -> `(TAG1 TAG2 )`\n",
    "* `--XX_norm`: normalize all POS tags to XX\n",
    "    * e.g. `(TAG1 (TAG2 ..` -> `(XX (XX ..`\n",
    "* `--closing_tag`: append closing POS tag after the closing parenthesis\n",
    "    * e.g. `(TAG1 (TAG2 ) )` -> `(TAG1 (TAG2 )TAG2 )TAG1`\n",
    "* `--keep_index`: drop tracing index\n",
    "    * e.g. drop `-1` from `*T*-1` to get `*T*`"
   ]
  },
  {
   "cell_type": "markdown",
   "metadata": {},
   "source": [
    "#### Example Usage\n",
    "```shell\n",
    "# with default hyperparams\n",
    "$ python prepare_data.py\n",
    "\n",
    "# with custom hyperparams\n",
    "$ python prepare_data.py --out_dir ./outputs/ptb_XX --XX_norm --reverse --prune\n",
    "```"
   ]
  },
  {
   "cell_type": "markdown",
   "metadata": {},
   "source": [
    "### 2. Training\n",
    "[train.py](./train.py) performs training and also periodically evaluates model's performance on dev set.\n",
    "\n",
    "```shell\n",
    "$ python train.py --help\n",
    "\n",
    "usage: PA4 Training Argparser [-h] [--data_dir DATA_DIR] [--model_dir MODEL_DIR] [--glove_dir GLOVE_DIR] [--glove_name {6B,42B,840B,twitter.27B}] [--glove_strategy {glove,overlap,sent}] [--with_torchtext] [--finetune_glove] [--sent_threshold SENT_THRESHOLD] [--tree_threshold TREE_THRESHOLD] [--model {vanilla,bahdanau,luong_dot,luong_general}] [--embed_dim EMBED_DIM] [--rnn {rnn,gru,lstm}] [--num_layers NUM_LAYERS] [--hidden_dim HIDDEN_DIM] [--dropout DROPOUT] [--epochs EPOCHS]\n",
    "                              [--eval_every EVAL_EVERY] [--batch_size BATCH_SIZE] [--learning_rate LEARNING_RATE] [--teacher_forcing_ratio TEACHER_FORCING_RATIO] [--checkpoint CHECKPOINT] [--seed SEED]\n",
    "\n",
    "optional arguments:\n",
    "  -h, --help            show this help message and exit\n",
    "  --data_dir DATA_DIR   path to processed ptb input data\n",
    "  --model_dir MODEL_DIR\n",
    "                        path to model outputs\n",
    "  --glove_dir GLOVE_DIR\n",
    "                        path to glove dir; must be specified when using GloVe\n",
    "  --glove_name {6B,42B,840B,twitter.27B}\n",
    "                        name of the pre-trained GloVe vectors. If None, will attempt to infer automatically\n",
    "  --glove_strategy {glove,overlap,sent}\n",
    "                        how to handle vocabs when using GloVe. See `consts.py` for details\n",
    "  --with_torchtext      whether to use torchtext when loading GloVe. Note that by default torchtext is not required\n",
    "  --finetune_glove      whether to make GloVe embeddings trainable\n",
    "  --sent_threshold SENT_THRESHOLD\n",
    "                        minimum number of occurrences for sentence tokens to keep as vocab\n",
    "  --tree_threshold TREE_THRESHOLD\n",
    "                        minimum number of occurrences for tree tokens to keep as vocab\n",
    "  --model {vanilla,bahdanau,luong_dot,luong_general}\n",
    "                        which seq2seq model to train. See `consts.py` for details\n",
    "  --embed_dim EMBED_DIM\n",
    "                        embedding dimension\n",
    "  --rnn {rnn,gru,lstm}  type of rnn to use in encoder and decoder\n",
    "  --num_layers NUM_LAYERS\n",
    "                        number of rnn layers in encoder and decoder\n",
    "  --hidden_dim HIDDEN_DIM\n",
    "                        rnn hidden dimension\n",
    "  --dropout DROPOUT     dropout probability\n",
    "  --epochs EPOCHS       number of training epochs\n",
    "  --eval_every EVAL_EVERY\n",
    "                        interval of epochs to perform evaluation on dev set\n",
    "  --batch_size BATCH_SIZE\n",
    "                        size of mini batch\n",
    "  --learning_rate LEARNING_RATE\n",
    "                        learning rate\n",
    "  --teacher_forcing_ratio TEACHER_FORCING_RATIO\n",
    "                        teacher forcing ratio, where higher means more teacher forcing; cannot be 1 with attentional decoders\n",
    "  --checkpoint CHECKPOINT\n",
    "                        if specified, attempts to load model params and resume training\n",
    "  --seed SEED           seed value for replicability\n",
    "```\n"
   ]
  },
  {
   "cell_type": "markdown",
   "metadata": {},
   "source": [
    "#### Comments on Some Flags \n",
    "The default values were mostly chosen arbitrarily; be sure to try different hyperparameter values\n",
    "\n",
    "* `--with_torchtext`: whether to use `torchtext` to load GloVe.\n",
    "  If you used `torchtext` in PA2 and PA3, you may find this flag useful\n",
    "* `--glove_strategy`: there are 3 options\n",
    "  1. `glove`: discard Sentence vocabs and keep all of GloVe's vocabs\n",
    "  2. `overlap`: only keep the vocabs found in both GloVe's vocabs and Sentence vocabs (default)\n",
    "  3. `sent`: keep all of Sentence vocabs. For Sentence vocabs that also appear in Glove's vocabs, fetch their corresponding GloVe vectors; for the rest, sample\n",
    "    from normal distribution parameterized by GloVe embedding's summary statistics\n",
    "* `--finetune_glove`: if True, the GloVe embedding will be updated during training.\n",
    "  While you are welcome to play around with this flag, it should remain False when `glove_strategy == glove` as it may raise CUDA OOM error \n",
    "* `--model`: there are 4 options\n",
    "  1. `vanilla`: basic, vanilla Seq2Seq with no attention (default)\n",
    "  2. `bahdanau`: Bahdanau (additive) attention decoder\n",
    "  3. `luong_dot`: Luong dot-product attention decoder\n",
    "  4. `luong_general`: Luong general attention decoder\n",
    "* `--teacher_forcing_ratio`: in short, how often to use gold input rather than previous time-step's prediction at each decoding step.\n",
    "  Setting this to 1 will make training significantly faster as PyTorch performs for-loop internally.\n",
    "  However, this is only compatible with `model == vanilla` setting as other attentional decoders require manual iteration.\n",
    "  In addition, model's performance on dev or test will suffer as the training environment becomes too different from that during inference\n"
   ]
  },
  {
   "cell_type": "markdown",
   "metadata": {},
   "source": [
    "#### Example Usage\n",
    "```shell\n",
    "# with default hyperparams\n",
    "$ python train.py\n",
    "\n",
    "# with LSTM\n",
    "$ python train.py --data_dir ./outputs/ptb_XX --model_dir ./outputs/model_LSTM --rnn LSTM\n",
    "\n",
    "# with GloVe\n",
    "$ python train.py --glove_dir ./glove_6B --embed_dim 200 --model_dir ./outputs/model_glove_6B --rnn LSTM\n",
    "\n",
    "# resume training from checkpoint\n",
    "$ python train.py --checkpoint ./outputs/model/epoch_100.pt --epochs 50\n",
    "```"
   ]
  },
  {
   "cell_type": "markdown",
   "metadata": {},
   "source": [
    "### 3. Inference\n",
    "[inference.py](./inference.py) outputs model predictions on test set.\n",
    "\n",
    "```shell\n",
    "$ python inference.py --help\n",
    "\n",
    "usage: PA4 Inference Argparser [-h] --checkpoint CHECKPOINT\n",
    "\n",
    "optional arguments:\n",
    "  -h, --help            show this help message and exit\n",
    "  --checkpoint CHECKPOINT\n",
    "                        checkpoint to load model from\n",
    "```\n",
    "\n",
    "Inference processes a single sentence at a time. \n",
    "While this is conventionally done with a while-loop which breaks when EOS is predicted, we instead set an arbitrary max decoding steps at `3 * source sequence length` and perform a for-loop.\n",
    "Empirically, on average the linearized trees tend to have length about ~2.5 times that of source sequence, although this will vary by the hyperparameters used when preparing data in Step 1.\n"
   ]
  },
  {
   "cell_type": "markdown",
   "metadata": {},
   "source": [
    "#### Example Usage\n",
    "```shell\n",
    "$ python inference.py --checkpoint ./outputs/model/epoch_100.pt\n",
    "```\n"
   ]
  },
  {
   "cell_type": "markdown",
   "metadata": {},
   "source": [
    "## Interpreting the Results\n",
    "There are 2 metrics in use, **BLEU** and **Token-level Accuracy**, both of which are not exactly conventional in syntactic parsing.\n",
    "Token-level accuracy can be especially deceiving as a model that outputs only closing brackets will score very high when linearized phrase structure tree contains no closing POS tags.\n",
    "But they give us some sense of training progress.\n",
    "\n",
    "The reason why we do not use the canonical Bracketed F1 score (EVALB) is that it requires well-formed trees as input, but a model has to be sufficiently trained to produce such high-quality trees. \n",
    "But this is difficult to achieve and often requires extensive heuristics to fix ill-formed trees.\n",
    "Therefore we consider it beyond the scope of this program assignment.\n",
    "\n",
    "While you are welcome to try to compile EVALB and report Bracketed F1 scores, this is optional.\n",
    "**You are only required to report BLEU and Token-level Accuracy** in your report.\n",
    "\n"
   ]
  },
  {
   "cell_type": "markdown",
   "metadata": {},
   "source": [
    "## Reference\n",
    "* Seq2Seq for Parsing: [Grammar as a Foreign Language](https://arxiv.org/abs/1412.7449)\n",
    "* Bahdanau Attention: [Neural Machine Translation by Jointly Learning to Align and Translate](https://arxiv.org/abs/1409.0473)\n",
    "* Luong Attention: [Effective Approaches to Attention-based Neural Machine Translation](https://arxiv.org/abs/1508.04025v2)\n"
   ]
  }
 ],
 "metadata": {
  "celltoolbar": "Slideshow",
  "kernelspec": {
   "display_name": "Python 3",
   "language": "python",
   "name": "python3"
  },
  "language_info": {
   "codemirror_mode": {
    "name": "ipython",
    "version": 3
   },
   "file_extension": ".py",
   "mimetype": "text/x-python",
   "name": "python",
   "nbconvert_exporter": "python",
   "pygments_lexer": "ipython3",
   "version": "3.7.6"
  }
 },
 "nbformat": 4,
 "nbformat_minor": 5
}
